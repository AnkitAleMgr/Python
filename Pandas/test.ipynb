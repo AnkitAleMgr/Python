{
 "cells": [
  {
   "cell_type": "code",
   "execution_count": 3,
   "id": "9a96269e-38da-42e5-8e15-f9049c4c19c5",
   "metadata": {},
   "outputs": [
    {
     "ename": "TypeError",
     "evalue": "DataFrame.nlargest() missing 1 required positional argument: 'columns'",
     "output_type": "error",
     "traceback": [
      "\u001b[31m---------------------------------------------------------------------------\u001b[39m",
      "\u001b[31mTypeError\u001b[39m                                 Traceback (most recent call last)",
      "\u001b[36mCell\u001b[39m\u001b[36m \u001b[39m\u001b[32mIn[3]\u001b[39m\u001b[32m, line 9\u001b[39m\n\u001b[32m      6\u001b[39m df = pd.DataFrame(data)\n\u001b[32m      8\u001b[39m \u001b[38;5;66;03m# Get the top 2 rows based on 'Score'\u001b[39;00m\n\u001b[32m----> \u001b[39m\u001b[32m9\u001b[39m top_scores = \u001b[43mdf\u001b[49m\u001b[43m.\u001b[49m\u001b[43mnlargest\u001b[49m\u001b[43m(\u001b[49m\u001b[32;43m2\u001b[39;49m\u001b[43m)\u001b[49m\n\u001b[32m     10\u001b[39m \u001b[38;5;28mprint\u001b[39m(top_scores)\n\u001b[32m     12\u001b[39m \u001b[38;5;66;03m# Get the top 3 rows based on 'Score' and then 'Age' for ties\u001b[39;00m\n\u001b[32m     13\u001b[39m \u001b[38;5;66;03m# top_complex = df.nlargest(3, ['Score', 'Age'])\u001b[39;00m\n\u001b[32m     14\u001b[39m \u001b[38;5;66;03m# print(top_complex)\u001b[39;00m\n",
      "\u001b[31mTypeError\u001b[39m: DataFrame.nlargest() missing 1 required positional argument: 'columns'"
     ]
    }
   ],
   "source": [
    "import pandas as pd\n",
    "\n",
    "data = {'Name': ['Alice', 'Bob', 'Charlie', 'David', 'Eve'],\n",
    "        'Score': [85, 92, 78, 95, 88],\n",
    "        'Age': [25, 30, 22, 28, 27]}\n",
    "df = pd.DataFrame(data)\n",
    "\n",
    "# Get the top 2 rows based on 'Score'\n",
    "top_scores = df.nlargest(2, 'Score')\n",
    "print(top_scores)\n",
    "\n",
    "# Get the top 3 rows based on 'Score' and then 'Age' for ties\n",
    "# top_complex = df.nlargest(3, ['Score', 'Age'])\n",
    "# print(top_complex)"
   ]
  }
 ],
 "metadata": {
  "kernelspec": {
   "display_name": "Python 3 (ipykernel)",
   "language": "python",
   "name": "python3"
  },
  "language_info": {
   "codemirror_mode": {
    "name": "ipython",
    "version": 3
   },
   "file_extension": ".py",
   "mimetype": "text/x-python",
   "name": "python",
   "nbconvert_exporter": "python",
   "pygments_lexer": "ipython3",
   "version": "3.13.3"
  }
 },
 "nbformat": 4,
 "nbformat_minor": 5
}
