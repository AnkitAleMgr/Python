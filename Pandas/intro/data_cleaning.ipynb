{
 "cells": [
  {
   "cell_type": "code",
   "execution_count": 2,
   "id": "cf23d714",
   "metadata": {},
   "outputs": [
    {
     "name": "stdout",
     "output_type": "stream",
     "text": [
      "\n",
      "made change\n",
      "    Duration       Date  Pulse  Maxpulse  Calories\n",
      "0         60 2020-12-01    110       130     409.1\n",
      "1         60 2020-12-02    117       145     479.0\n",
      "2         60 2020-12-03    103       135     340.0\n",
      "3         45 2020-12-04    109       175     282.4\n",
      "4         45 2020-12-05    117       148     406.0\n",
      "5         60 2020-12-06    102       127     300.0\n",
      "6         60 2020-12-07    110       136     374.0\n",
      "7         60 2020-12-08    104       134     253.3\n",
      "8         30 2020-12-09    109       133     195.1\n",
      "9         60 2020-12-10     98       124     269.0\n",
      "10        60 2020-12-11    103       147     329.3\n",
      "11        60 2020-12-12    100       120     250.7\n",
      "12        60 2020-12-12    100       120     250.7\n",
      "13        60 2020-12-13    106       128     345.3\n",
      "14        60 2020-12-14    104       132     379.3\n",
      "15        60 2020-12-15     98       123     275.0\n",
      "16        60 2020-12-16     98       120     215.2\n",
      "17        60 2020-12-17    100       120     300.0\n",
      "18        45 2020-12-18     90       112       NaN\n",
      "19        60 2020-12-19    103       123     323.0\n",
      "20        45 2020-12-20     97       125     243.0\n",
      "21        60 2020-12-21    108       131     364.2\n",
      "22        45 2020-12-12    100       119     282.0\n",
      "23        60 2020-12-23    130       101     300.0\n",
      "24        60 2020-12-24    105       132     246.0\n",
      "25        60 2020-12-25    102       126     334.5\n",
      "26        60 2020-12-26    100       120     250.0\n",
      "27        60 2020-12-27     92       118     241.0\n",
      "28        60 2020-12-28    103       132       NaN\n",
      "29        60 2020-12-29    100       132     280.0\n",
      "30        60 2020-12-30    102       129     380.3\n",
      "31        60 2020-12-31     92       115     243.0\n"
     ]
    },
    {
     "name": "stderr",
     "output_type": "stream",
     "text": [
      "/var/folders/pz/fb1v700s76dcwmgvjy5xqh0r0000gn/T/ipykernel_94287/542247547.py:11: FutureWarning: A value is trying to be set on a copy of a DataFrame or Series through chained assignment using an inplace method.\n",
      "The behavior will change in pandas 3.0. This inplace method will never work because the intermediate object on which we are setting values always behaves as a copy.\n",
      "\n",
      "For example, when doing 'df[col].method(value, inplace=True)', try using 'df.method({col: value}, inplace=True)' or df[col] = df[col].method(value) instead, to perform the operation inplace on the original object.\n",
      "\n",
      "\n",
      "  df[\"Date\"].replace(pd.NaT , mode_date, inplace= True)\n"
     ]
    }
   ],
   "source": [
    "from textwrap import indent\n",
    "import pandas as pd\n",
    "\n",
    "\n",
    "df = pd.read_csv(\"csv_files/test.csv\")\n",
    "# print(df)\n",
    "\n",
    "# formating the data\n",
    "df[\"Date\"] = pd.to_datetime(df[\"Date\"], format= \"%Y/%m/%d\") \n",
    "mode_date = df[\"Date\"].mode()[0]\n",
    "df[\"Date\"].replace(pd.NaT , mode_date, inplace= True)\n",
    "# print(df.to_string())\n",
    "# print(df.info())\n",
    "\n",
    "# replacing the high value with low value\n",
    "# print()\n",
    "# duration_mode = df[\"Duration\"].mode()[0]\n",
    "# for i in df.index:\n",
    "#     if df.loc[i,\"Duration\"] > 60:\n",
    "#         print(\"Invalid data found\")\n",
    "#         print(type(duration_mode))\n",
    "#         df.loc[i,\"Duration\"] = duration_mode\n",
    "# print(df.to_string())\n",
    "\n",
    "\n",
    "# another way of replacing:\n",
    "print()\n",
    "duration_mode = df[\"Duration\"].mode()[0]\n",
    "is_grater_than_60_list = df[\"Duration\"] >= 60\n",
    "\n",
    "if is_grater_than_60_list.any():\n",
    "    df.loc[is_grater_than_60_list, \"Duration\"] = duration_mode\n",
    "    print(\"made change\")\n",
    "print(df.to_string())\n",
    "\n",
    "\n"
   ]
  },
  {
   "cell_type": "markdown",
   "id": "584cb7d0",
   "metadata": {},
   "source": [
    "remove entire row with invalid input/unexpected value"
   ]
  },
  {
   "cell_type": "code",
   "execution_count": 19,
   "id": "d28ab4af",
   "metadata": {},
   "outputs": [
    {
     "name": "stdout",
     "output_type": "stream",
     "text": [
      "\n",
      "    Duration        Date  Pulse  Maxpulse  Calories\n",
      "0         60  2020/12/01    110       130     409.1\n",
      "1         60  2020/12/02    117       145     479.0\n",
      "2         60  2020/12/03    103       135     340.0\n",
      "3         45  2020/12/04    109       175     282.4\n",
      "4         45  2020/12/05    117       148     406.0\n",
      "5         60  2020/12/06    102       127     300.0\n",
      "6         60  2020/12/07    110       136     374.0\n",
      "7         30  2020/12/09    109       133     195.1\n",
      "8         60  2020/12/10     98       124     269.0\n",
      "9         60  2020/12/11    103       147     329.3\n",
      "10        60  2020/12/12    100       120     250.7\n",
      "11        60  2020/12/12    100       120     250.7\n",
      "12        60  2020/12/13    106       128     345.3\n",
      "13        60  2020/12/15     98       123     275.0\n",
      "14        60  2020/12/16     98       120     215.2\n",
      "15        60  2020/12/17    100       120     300.0\n",
      "16        45  2020/12/18     90       112       NaN\n",
      "17        60  2020/12/19    103       123     323.0\n",
      "18        45  2020/12/20     97       125     243.0\n",
      "19        60  2020/12/21    108       131     364.2\n",
      "20        45         NaN    100       119     282.0\n",
      "21        60  2020/12/23    130       101     300.0\n",
      "22        60  2020/12/25    102       126     334.5\n",
      "23        60  2020/12/26    100       120     250.0\n",
      "24        60  2020/12/27     92       118     241.0\n",
      "25        60  2020/12/28    103       132       NaN\n",
      "26        60  2020/12/29    100       132     280.0\n",
      "27        60  2020/12/30    102       129     380.3\n",
      "28        60  2020/12/31     92       115     243.0\n"
     ]
    }
   ],
   "source": [
    "from os import path\n",
    "import pandas as pd\n",
    "\n",
    "\n",
    "# creaign dataFrame object\n",
    "df = pd.read_csv(\"csv_files/test.csv\")\n",
    "# print(df.to_string())\n",
    "\n",
    "# replacing all the value that has invalid/unexpected data in duration column\n",
    "# df.drop(df[\"Duration\"] > 60)\n",
    "# print(df)\n",
    "# print(df.info())\n",
    "\n",
    "\n",
    "is_grater_than_60_list = df[\"Duration\"] > 60\n",
    "\n",
    "print()\n",
    "if is_grater_than_60_list.any():\n",
    "    df.drop(df[is_grater_than_60_list].index, inplace=True)\n",
    "    df.reset_index(drop=True, inplace= True)\n",
    "print(df)\n",
    "# print(df.info())"
   ]
  },
  {
   "cell_type": "markdown",
   "id": "d896997d",
   "metadata": {},
   "source": [
    "checking for duplication"
   ]
  },
  {
   "cell_type": "code",
   "execution_count": 1,
   "id": "93ae8e8e",
   "metadata": {},
   "outputs": [
    {
     "name": "stdout",
     "output_type": "stream",
     "text": [
      "some are duplicate\n"
     ]
    }
   ],
   "source": [
    "import pandas as pd\n",
    "\n",
    "# creating and reading csv file\n",
    "df = pd.read_csv(\"csv_files/test.csv\")\n",
    "\n",
    "# print(df.duplicated())\n",
    "if df.duplicated().any():\n",
    "    print(\"some are duplicate\")\n",
    "else:\n",
    "    print(\"No duplication found\")\n",
    "\n",
    "# df.drop_duplicates(inplace=True)\n",
    "# print(df.duplicated())\n",
    "# print()\n",
    "# print(df)\n"
   ]
  }
 ],
 "metadata": {
  "kernelspec": {
   "display_name": "Python 3",
   "language": "python",
   "name": "python3"
  },
  "language_info": {
   "codemirror_mode": {
    "name": "ipython",
    "version": 3
   },
   "file_extension": ".py",
   "mimetype": "text/x-python",
   "name": "python",
   "nbconvert_exporter": "python",
   "pygments_lexer": "ipython3",
   "version": "3.13.3"
  }
 },
 "nbformat": 4,
 "nbformat_minor": 5
}
