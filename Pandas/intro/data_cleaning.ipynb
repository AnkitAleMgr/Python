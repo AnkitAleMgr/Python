{
 "cells": [
  {
   "cell_type": "code",
   "execution_count": 1,
   "id": "cf23d714",
   "metadata": {},
   "outputs": [
    {
     "name": "stdout",
     "output_type": "stream",
     "text": [
      "\n",
      "<class 'pandas.core.frame.DataFrame'>\n",
      "RangeIndex: 32 entries, 0 to 31\n",
      "Data columns (total 5 columns):\n",
      " #   Column    Non-Null Count  Dtype         \n",
      "---  ------    --------------  -----         \n",
      " 0   Duration  32 non-null     int64         \n",
      " 1   Date      32 non-null     datetime64[ns]\n",
      " 2   Pulse     32 non-null     int64         \n",
      " 3   Maxpulse  32 non-null     int64         \n",
      " 4   Calories  30 non-null     float64       \n",
      "dtypes: datetime64[ns](1), float64(1), int64(3)\n",
      "memory usage: 1.4 KB\n",
      "None\n"
     ]
    },
    {
     "name": "stderr",
     "output_type": "stream",
     "text": [
      "/var/folders/pz/fb1v700s76dcwmgvjy5xqh0r0000gn/T/ipykernel_86921/1647576260.py:11: FutureWarning: A value is trying to be set on a copy of a DataFrame or Series through chained assignment using an inplace method.\n",
      "The behavior will change in pandas 3.0. This inplace method will never work because the intermediate object on which we are setting values always behaves as a copy.\n",
      "\n",
      "For example, when doing 'df[col].method(value, inplace=True)', try using 'df.method({col: value}, inplace=True)' or df[col] = df[col].method(value) instead, to perform the operation inplace on the original object.\n",
      "\n",
      "\n",
      "  df[\"Date\"].replace(pd.NaT , mode_date, inplace= True)\n"
     ]
    }
   ],
   "source": [
    "from textwrap import indent\n",
    "import pandas as pd\n",
    "\n",
    "\n",
    "df = pd.read_csv(\"csv_files/test.csv\")\n",
    "# print(df)\n",
    "\n",
    "# formating the data\n",
    "df[\"Date\"] = pd.to_datetime(df[\"Date\"], format= \"%Y/%m/%d\") \n",
    "mode_date = df[\"Date\"].mode()[0]\n",
    "df[\"Date\"].replace(pd.NaT , mode_date, inplace= True)\n",
    "# print(df.to_string())\n",
    "# print(df.info())\n",
    "\n",
    "# replacing the high value with low value\n",
    "# print()\n",
    "# duration_mode = df[\"Duration\"].mode()[0]\n",
    "# for i in df.index:\n",
    "#     if df.loc[i,\"Duration\"] > 60:\n",
    "#         print(\"Invalid data found\")\n",
    "#         print(type(duration_mode))\n",
    "#         df.loc[i,\"Duration\"] = duration_mode\n",
    "# print(df.to_string())\n",
    "\n",
    "\n",
    "# another way of replacing:\n",
    "print()\n",
    "duration_mode = df[\"Duration\"].mode()[0]\n",
    "is_grater_than_60_list = df[\"Duration\"] <= 60\n",
    "\n",
    "print(df.info())\n",
    "\n",
    "\n"
   ]
  }
 ],
 "metadata": {
  "kernelspec": {
   "display_name": "Python 3",
   "language": "python",
   "name": "python3"
  },
  "language_info": {
   "codemirror_mode": {
    "name": "ipython",
    "version": 3
   },
   "file_extension": ".py",
   "mimetype": "text/x-python",
   "name": "python",
   "nbconvert_exporter": "python",
   "pygments_lexer": "ipython3",
   "version": "3.13.3"
  }
 },
 "nbformat": 4,
 "nbformat_minor": 5
}
