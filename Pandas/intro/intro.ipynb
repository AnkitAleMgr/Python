{
 "cells": [
  {
   "cell_type": "code",
   "execution_count": 63,
   "id": "1971940b",
   "metadata": {},
   "outputs": [
    {
     "name": "stdout",
     "output_type": "stream",
     "text": [
      "   0  1    2    3\n",
      "0  1  2  3.0  4.0\n",
      "1  3  4  NaN  NaN\n",
      "2  5  6  NaN  NaN\n"
     ]
    }
   ],
   "source": [
    "import pandas as pd\n",
    "\n",
    "list = [[1,2, 3,4],[3,4],[5,6]]\n",
    "\n",
    "data = pd.DataFrame(list)\n",
    "\n",
    "print(data)"
   ]
  }
 ],
 "metadata": {
  "kernelspec": {
   "display_name": "Python 3",
   "language": "python",
   "name": "python3"
  },
  "language_info": {
   "codemirror_mode": {
    "name": "ipython",
    "version": 3
   },
   "file_extension": ".py",
   "mimetype": "text/x-python",
   "name": "python",
   "nbconvert_exporter": "python",
   "pygments_lexer": "ipython3",
   "version": "3.13.3"
  }
 },
 "nbformat": 4,
 "nbformat_minor": 5
}
