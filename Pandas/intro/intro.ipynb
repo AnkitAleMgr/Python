{
 "cells": [
  {
   "cell_type": "code",
   "execution_count": 63,
   "id": "1971940b",
   "metadata": {},
   "outputs": [
    {
     "name": "stdout",
     "output_type": "stream",
     "text": [
      "   0  1    2    3\n",
      "0  1  2  3.0  4.0\n",
      "1  3  4  NaN  NaN\n",
      "2  5  6  NaN  NaN\n"
     ]
    }
   ],
   "source": [
    "import pandas as pd\n",
    "\n",
    "list = [[1,2, 3,4],[3,4],[5,6]]\n",
    "\n",
    "data = pd.DataFrame(list)\n",
    "\n",
    "print(data)"
   ]
  },
  {
   "cell_type": "code",
   "execution_count": 5,
   "id": "a1c78300",
   "metadata": {},
   "outputs": [
    {
     "name": "stdout",
     "output_type": "stream",
     "text": [
      "day1    420.0\n",
      "day2    380.0\n",
      "day3    390.0\n",
      "day4      NaN\n",
      "dtype: float64\n"
     ]
    }
   ],
   "source": [
    "import pandas as pd\n",
    "\n",
    "calories = {\"day1\": 420, \"day2\": 380, \"day3\": 390}\n",
    "\n",
    "myvar = pd.Series(calories, index = [\"day1\", \"day2\", \"day3\", \"day4\"])\n",
    "\n",
    "print(myvar)"
   ]
  },
  {
   "cell_type": "code",
   "execution_count": null,
   "id": "1af92df8",
   "metadata": {},
   "outputs": [
    {
     "name": "stdout",
     "output_type": "stream",
     "text": [
      "a    0.0\n",
      "b    1.0\n",
      "c    2.0\n",
      "dtype: float64\n",
      "\n",
      "2.0\n"
     ]
    }
   ],
   "source": [
    "import pandas as pd\n",
    "\n",
    "d = {\"a\": 0.0, \"b\": 1.0, \"c\": 2.0}\n",
    "data = pd.Series(d)\n",
    "print (data)\n",
    "print()\n",
    "\n",
    "# data = pd.Series(d, index=[\"b\", \"a\",\"c\",\"d\"])\n",
    "# data = pd.Series(d, index= [\"ankit\",\"anmol\",\"safal\",\"jenif\"])\n",
    "# print(data)\n",
    "\n",
    "print(data.get(\"c\"))\n",
    "\n",
    "\n"
   ]
  },
  {
   "cell_type": "code",
   "execution_count": 32,
   "id": "feea37b5",
   "metadata": {},
   "outputs": [],
   "source": [
    "import pandas as pd\n",
    "\n",
    "data = {\n",
    "  \"calories\": [420, 380, 390],\n",
    "  \"duration\": [50, 40, 45]\n",
    "}\n",
    "\n",
    "df = pd.DataFrame(data, index = [\"day1\", \"day2\", \"day3\"])\n",
    "# print(df) "
   ]
  },
  {
   "cell_type": "markdown",
   "id": "c34dbfa4",
   "metadata": {},
   "source": [
    "importing cvs file"
   ]
  },
  {
   "cell_type": "code",
   "execution_count": null,
   "id": "1094b375",
   "metadata": {},
   "outputs": [
    {
     "name": "stdout",
     "output_type": "stream",
     "text": [
      "     Name      HEX               RGB\n",
      "0   White  #FFFFFF  rgb(100,100,100)\n",
      "1  Silver      NaN     rgb(75,75,75)\n",
      "2    Gray  #808080     rgb(50,50,50)\n",
      "3   Black  #000000        rgb(0,0,0)\n",
      "4     Red  #FF0000      rgb(100,0,0)\n",
      "\n",
      "<class 'pandas.core.frame.DataFrame'>\n",
      "RangeIndex: 84 entries, 0 to 83\n",
      "Data columns (total 3 columns):\n",
      " #   Column  Non-Null Count  Dtype \n",
      "---  ------  --------------  ----- \n",
      " 0   Name    84 non-null     object\n",
      " 1   HEX     82 non-null     object\n",
      " 2   RGB     84 non-null     object\n",
      "dtypes: object(3)\n",
      "memory usage: 2.1+ KB\n",
      "None\n",
      "\n",
      "Name    object\n",
      "HEX     object\n",
      "RGB     object\n",
      "dtype: object\n",
      "\n"
     ]
    }
   ],
   "source": [
    "from operator import index\n",
    "import pandas as pd\n",
    "\n",
    "df = pd.read_csv(\"csv_files/color_srgb.csv\")\n",
    "\n",
    "# pd.options.display.max_rows = 10\n",
    "# print(pd.options.display.max_rows) \n",
    "# pd.set_option(\"display.max_rows\", None)\n",
    "# print(df)\n",
    "\n",
    "# Print full DataFrame (can also use df.to_string(index=False) if you want to hide index)\n",
    "print(df.head())\n",
    "print()\n",
    "print(df.info())\n",
    "print()\n",
    "print(df.dtypes)\n",
    "print()"
   ]
  },
  {
   "cell_type": "code",
   "execution_count": 1,
   "id": "860776cd",
   "metadata": {},
   "outputs": [
    {
     "name": "stdout",
     "output_type": "stream",
     "text": [
      "60\n"
     ]
    }
   ],
   "source": [
    "import pandas as pd\n",
    "\n",
    "print(pd.options.display.max_rows) "
   ]
  }
 ],
 "metadata": {
  "kernelspec": {
   "display_name": "Python 3",
   "language": "python",
   "name": "python3"
  },
  "language_info": {
   "codemirror_mode": {
    "name": "ipython",
    "version": 3
   },
   "file_extension": ".py",
   "mimetype": "text/x-python",
   "name": "python",
   "nbconvert_exporter": "python",
   "pygments_lexer": "ipython3",
   "version": "3.13.3"
  }
 },
 "nbformat": 4,
 "nbformat_minor": 5
}
