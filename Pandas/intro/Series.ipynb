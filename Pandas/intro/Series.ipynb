{
 "cells": [
  {
   "cell_type": "markdown",
   "id": "4c4b597d",
   "metadata": {},
   "source": [
    "1..\n",
    "Create a Series from a list of numbers:\n",
    "[10, 20, 30, 40, 50]"
   ]
  },
  {
   "cell_type": "code",
   "execution_count": null,
   "id": "f8d841e2",
   "metadata": {},
   "outputs": [
    {
     "name": "stdout",
     "output_type": "stream",
     "text": [
      "Series:\n",
      "0    10\n",
      "1    20\n",
      "2    30\n",
      "3    40\n",
      "4    50\n",
      "dtype: int64\n",
      "\n",
      "2nd items: 20\n",
      "4nd items: 40\n",
      "\n",
      "Sum of series is 150\n",
      "mean of series is 30.0\n"
     ]
    }
   ],
   "source": [
    "import pandas as pd\n",
    "\n",
    "data = pd.Series([10, 20, 30, 40, 50])\n",
    "\n",
    "# Print the Series\n",
    "print(\"Series:\")\n",
    "print(data)\n",
    "\n",
    "# Access the 2nd and 4th item (indexing starts at 0)\n",
    "print(f\"\\n2nd items: {data[1]}\")\n",
    "print(f\"4nd items: {data[3]}\")\n",
    "\n",
    "# Find the sum and mean of the series.\n",
    "print(f\"\\nSum of series is {data.sum()}\")\n",
    "print(f\"mean of series is {data.mean()}\")"
   ]
  },
  {
   "cell_type": "markdown",
   "id": "e3e8b1a9",
   "metadata": {},
   "source": [
    "2.. Create a Series with custom index:\n",
    "Data: [5, 10, 15]\n",
    "Index: ['a', 'b', 'c']\n",
    "\n",
    "Access value with index 'b'\n",
    "Change value at 'c' to 20"
   ]
  },
  {
   "cell_type": "code",
   "execution_count": 30,
   "id": "83286229",
   "metadata": {},
   "outputs": [
    {
     "name": "stdout",
     "output_type": "stream",
     "text": [
      "Series\n",
      "a     5\n",
      "b    10\n",
      "c    15\n",
      "dtype: int64\n",
      "\n",
      "Value of index 'b' is 10\n",
      "Value of index 'c' has been change into 20\n"
     ]
    }
   ],
   "source": [
    "\n",
    "import pandas as pd\n",
    "\n",
    "# creating a series of custon index\n",
    "data  = pd.Series([5, 10, 15], index = [\"a\", \"b\",\"c\"])\n",
    "print(\"Series\")\n",
    "print(data)\n",
    "\n",
    "# accessing value of sepecific index\n",
    "print(f\"\\nValue of index 'b' is {data[\"b\"]}\")\n",
    "data[\"c\"] = 20\n",
    "print(F\"Value of index 'c' has been change into {data[\"c\"]}\")\n"
   ]
  }
 ],
 "metadata": {
  "kernelspec": {
   "display_name": "Python 3",
   "language": "python",
   "name": "python3"
  },
  "language_info": {
   "codemirror_mode": {
    "name": "ipython",
    "version": 3
   },
   "file_extension": ".py",
   "mimetype": "text/x-python",
   "name": "python",
   "nbconvert_exporter": "python",
   "pygments_lexer": "ipython3",
   "version": "3.13.3"
  }
 },
 "nbformat": 4,
 "nbformat_minor": 5
}
