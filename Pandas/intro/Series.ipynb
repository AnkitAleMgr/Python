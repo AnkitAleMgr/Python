{
 "cells": [
  {
   "cell_type": "markdown",
   "id": "4c4b597d",
   "metadata": {},
   "source": [
    "1..\n",
    "Create a Series from a list of numbers:\n",
    "[10, 20, 30, 40, 50]"
   ]
  },
  {
   "cell_type": "code",
   "execution_count": null,
   "id": "f8d841e2",
   "metadata": {},
   "outputs": [
    {
     "name": "stdout",
     "output_type": "stream",
     "text": [
      "Series:\n",
      "0    10\n",
      "1    20\n",
      "2    30\n",
      "3    40\n",
      "4    50\n",
      "dtype: int64\n",
      "\n",
      "2nd items: 20\n",
      "4nd items: 40\n",
      "\n",
      "Sum of series is 150\n",
      "mean of series is 30.0\n"
     ]
    }
   ],
   "source": [
    "import pandas as pd\n",
    "\n",
    "data = pd.Series([10, 20, 30, 40, 50])\n",
    "\n",
    "# Print the Series\n",
    "print(\"Series:\")\n",
    "print(data)\n",
    "\n",
    "# Access the 2nd and 4th item (indexing starts at 0)\n",
    "print(f\"\\n2nd items: {data[1]}\")\n",
    "print(f\"4nd items: {data[3]}\")\n",
    "\n",
    "# Find the sum and mean of the series.\n",
    "print(f\"\\nSum of series is {data.sum()}\")\n",
    "print(f\"mean of series is {data.mean()}\")"
   ]
  },
  {
   "cell_type": "markdown",
   "id": "e3e8b1a9",
   "metadata": {},
   "source": [
    "2.. Create a Series with custom index:\n",
    "Data: [5, 10, 15]\n",
    "Index: ['a', 'b', 'c']\n",
    "\n",
    "Access value with index 'b'\n",
    "Change value at 'c' to 20"
   ]
  },
  {
   "cell_type": "code",
   "execution_count": null,
   "id": "83286229",
   "metadata": {},
   "outputs": [
    {
     "name": "stdout",
     "output_type": "stream",
     "text": [
      "Series\n",
      "a     5\n",
      "b    10\n",
      "c    15\n",
      "dtype: int64\n",
      "\n",
      "Value of index 'b' is 10\n",
      "Value of index 'c' has been change into 20\n"
     ]
    }
   ],
   "source": [
    "import pandas as pd\n",
    "\n",
    "# creating a series of custon index\n",
    "data  = pd.Series([5, 10, 15], index = [\"a\", \"b\",\"c\"])\n",
    "print(\"Series\")\n",
    "print(data)\n",
    "\n",
    "# accessing value of sepecific index\n",
    "print(f\"\\nValue of index 'b' is {data[\"b\"]}\")\n",
    "data[\"c\"] = 20\n",
    "print(F\"Value of index 'c' has been change into {data[\"c\"]}\")\n"
   ]
  },
  {
   "cell_type": "markdown",
   "id": "ba70ec07",
   "metadata": {},
   "source": [
    "3.. Create a Series with missing values (None or np.nan):\n",
    "[1, None, 3, 4, np.nan]\n",
    "\n",
    "Count how many missing values there are.\n",
    "Replace all NaN with 0."
   ]
  },
  {
   "cell_type": "code",
   "execution_count": 65,
   "id": "17c86d49",
   "metadata": {},
   "outputs": [
    {
     "name": "stdout",
     "output_type": "stream",
     "text": [
      "Series\n",
      "0    1.0\n",
      "1    NaN\n",
      "2    3.0\n",
      "3    NaN\n",
      "dtype: float64\n",
      "Number of nan is 2\n",
      "0    1.0\n",
      "1    0.0\n",
      "2    3.0\n",
      "3    0.0\n",
      "dtype: float64\n"
     ]
    }
   ],
   "source": [
    "import pandas as pd\n",
    "import numpy as np\n",
    "\n",
    "# Create a Series with missing values (None or np.nan):\n",
    "data = pd.Series([1,None, 3,np.nan])\n",
    "print(\"Series\")\n",
    "print(data)\n",
    "\n",
    "# Count how many missing values there are.\n",
    "# region program way\n",
    "# missing = 0\n",
    "# for i in range(len(data)):\n",
    "#     if pd.isna(data[i]):\n",
    "#         missing += 1\n",
    "#         data[i] = 0\n",
    "# endregion\n",
    "count = data.isna().sum()\n",
    "print(f\"Number of nan is {count}\")\n",
    "\n",
    "# printing new change data\n",
    "# region manual way\n",
    "# print(\"\\nNew Series\")\n",
    "# print(data)\n",
    "# print(f\"Missing value: {missing}\")\n",
    "# endregion\n",
    "print(data:= data.fillna(0))"
   ]
  },
  {
   "cell_type": "markdown",
   "id": "44b91337",
   "metadata": {},
   "source": [
    "4.. Create a Series of city names:\n",
    "['Kathmandu', 'Pokhara', 'Lalitpur', 'Bhaktapur']\n",
    "Check if 'Pokhara' exists.\n",
    "Find how many characters each city name has."
   ]
  },
  {
   "cell_type": "code",
   "execution_count": 88,
   "id": "d0f28041",
   "metadata": {},
   "outputs": [
    {
     "name": "stdout",
     "output_type": "stream",
     "text": [
      "Does 'Pokhara' exist: \n",
      "0    False\n",
      "1     True\n",
      "2    False\n",
      "3    False\n",
      "dtype: bool\n",
      "True\n",
      "Counting charecters in name: 0    9\n",
      "1    7\n",
      "2    8\n",
      "3    9\n",
      "dtype: int64\n"
     ]
    }
   ],
   "source": [
    "import pandas as pd\n",
    "\n",
    "# Create a Series of city names:\n",
    "data = pd.Series(['Kathmandu', 'Pokhara', 'Lalitpur', 'Bhaktapur'])\n",
    "\n",
    "# Check if 'Pokhara' exists.\n",
    "print(f\"Does 'Pokhara' exist: \\n{data.isin([\"Pokhara\"])}\")\n",
    "print(\"Pokhara\" in data.values)\n",
    "\n",
    "# Find how many characters each city name has.\n",
    "print(f\"Counting charecters in name: {data.str.len()}\")\n",
    "\n",
    "\n"
   ]
  },
  {
   "cell_type": "markdown",
   "id": "3a0407ca",
   "metadata": {},
   "source": [
    "5.. Create a Series of exam marks for 5 students.\n",
    "Index = student names  \n",
    "Values = marks\n",
    "Sort marks in descending order.\n",
    "\n",
    "Find which student got the highest."
   ]
  },
  {
   "cell_type": "code",
   "execution_count": null,
   "id": "4fd76bfa",
   "metadata": {},
   "outputs": [
    {
     "name": "stdout",
     "output_type": "stream",
     "text": [
      "         Maks\n",
      "Ankit     90\n",
      "Anmol     60\n",
      "Amit      75\n",
      "Samir     99\n",
      "Manish    60\n",
      "dtype: object\n",
      "\n",
      "        Mask(ranked)\n",
      "Samir     99\n",
      "Ankit     90\n",
      "Amit      75\n",
      "Anmol     60\n",
      "Manish    60\n",
      "dtype: object\n",
      "\n",
      "Hight value obtaing is 99 by Samir\n"
     ]
    }
   ],
   "source": [
    "import pandas as pd\n",
    "\n",
    "# variable\n",
    "mask = ['90','60','75','99','60']\n",
    "student_name = [\"ankit\", \"anmol\",\"amit\", \"samir\",\"manish\"]\n",
    "\n",
    "# creating Series with idenx name student name, mask as value\n",
    "result = pd.Series(mask ,index= [name.capitalize() for name in student_name])\n",
    "print(\"         Maks\")\n",
    "print(result)\n",
    "\n",
    "# Sorting mask in decending order\n",
    "result = result.sort_values(ascending=False)\n",
    "print(\"\\n        Mask(ranked)\")\n",
    "print(result)\n",
    "\n",
    "# Find which student got the highest.\n",
    "print(f\"\\nHight value obtaing is {result.max()} by {result.index[0]}\")"
   ]
  },
  {
   "cell_type": "markdown",
   "id": "2263a93f",
   "metadata": {},
   "source": [
    "6.. Create a Series from a dictionary:\n",
    "{'Apple': 100, 'Banana': 30, 'Mango': 80}\n",
    "Add 20 to each value.\n",
    "Remove 'Banana'"
   ]
  },
  {
   "cell_type": "code",
   "execution_count": null,
   "id": "713e92d9",
   "metadata": {},
   "outputs": [
    {
     "name": "stdout",
     "output_type": "stream",
     "text": [
      "          qty\n",
      "Apple     100\n",
      "Banana     30\n",
      "Mango      80\n",
      "dtype: int64\n",
      "\n",
      "          qty\n",
      "Apple     120\n",
      "Banana     50\n",
      "Mango     100\n",
      "dtype: int64\n",
      "\n",
      "          qty\n",
      "Apple    120\n",
      "Mango    100\n",
      "dtype: int64\n"
     ]
    }
   ],
   "source": [
    "import pandas as pd\n",
    "\n",
    "# variable\n",
    "fruits_qnt = {\n",
    "        'Apple': 100,\n",
    "        'Banana': 30,\n",
    "        'Mango': 80\n",
    "        }\n",
    "\n",
    "# creating Series obejct to store data in 1-dimensonal\n",
    "data = pd.Series(fruits_qnt)\n",
    "print(\"          qty\")\n",
    "print(data)\n",
    "\n",
    "# Add 20 to each value.\n",
    "data = data.add(20)\n",
    "print(\"\\n          qty\")\n",
    "print(data)\n",
    "\n",
    "# Remove 'Banana' \n",
    "data.pop(\"Banana\")\n",
    "# data = data.drop(\"Banana\")\n",
    "print(\"\\n          qty\")\n",
    "print(data)"
   ]
  },
  {
   "cell_type": "markdown",
   "id": "e52975bf",
   "metadata": {},
   "source": [
    "7.. Apply a custom function to Series:\n",
    "Create a Series of numbers and multiply each element by 3 only if it’s greater than 10."
   ]
  },
  {
   "cell_type": "code",
   "execution_count": 195,
   "id": "3c750c7e",
   "metadata": {},
   "outputs": [
    {
     "name": "stdout",
     "output_type": "stream",
     "text": [
      "    num\n",
      "0     4\n",
      "1     8\n",
      "2     9\n",
      "3    10\n",
      "4    15\n",
      "5    11\n",
      "dtype: int64\n",
      "\n",
      "    num\n",
      "0     4\n",
      "1     8\n",
      "2     9\n",
      "3    30\n",
      "4    45\n",
      "5    33\n",
      "dtype: int64\n"
     ]
    }
   ],
   "source": [
    "from os import replace\n",
    "import pandas as pd\n",
    "\n",
    "# variables\n",
    "a = [4,8,9,10,15,11]\n",
    "\n",
    "# creating object of Series inn 1-dimensoal\n",
    "data = pd.Series(a)\n",
    "print(\"    num\")\n",
    "print(data)\n",
    "\n",
    "# creaing function that multiply by 3\n",
    "def multiplier(x):\n",
    "    if x >= 10:\n",
    "        return x * 3\n",
    "    return x\n",
    "\n",
    "# passing data\n",
    "data = data.apply(multiplier)\n",
    "print(\"\\n    num\")\n",
    "print(data)\n",
    "\n",
    "\n",
    "\n",
    "\n",
    "\n",
    "    \n",
    "\n"
   ]
  }
 ],
 "metadata": {
  "kernelspec": {
   "display_name": "Python 3",
   "language": "python",
   "name": "python3"
  },
  "language_info": {
   "codemirror_mode": {
    "name": "ipython",
    "version": 3
   },
   "file_extension": ".py",
   "mimetype": "text/x-python",
   "name": "python",
   "nbconvert_exporter": "python",
   "pygments_lexer": "ipython3",
   "version": "3.13.3"
  }
 },
 "nbformat": 4,
 "nbformat_minor": 5
}
