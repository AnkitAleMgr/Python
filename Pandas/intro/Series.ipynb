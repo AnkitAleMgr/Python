{
 "cells": [
  {
   "cell_type": "markdown",
   "id": "4c4b597d",
   "metadata": {},
   "source": [
    "1..\n",
    "Create a Series from a list of numbers:\n",
    "[10, 20, 30, 40, 50]"
   ]
  },
  {
   "cell_type": "code",
   "execution_count": null,
   "id": "f8d841e2",
   "metadata": {},
   "outputs": [
    {
     "name": "stdout",
     "output_type": "stream",
     "text": [
      "Series:\n",
      "0    10\n",
      "1    20\n",
      "2    30\n",
      "3    40\n",
      "4    50\n",
      "dtype: int64\n",
      "\n",
      "2nd items: 20\n",
      "4nd items: 40\n",
      "\n",
      "Sum of series is 150\n",
      "mean of series is 30.0\n"
     ]
    }
   ],
   "source": [
    "import pandas as pd\n",
    "\n",
    "data = pd.Series([10, 20, 30, 40, 50])\n",
    "\n",
    "# Print the Series\n",
    "print(\"Series:\")\n",
    "print(data)\n",
    "\n",
    "# Access the 2nd and 4th item (indexing starts at 0)\n",
    "print(f\"\\n2nd items: {data[1]}\")\n",
    "print(f\"4nd items: {data[3]}\")\n",
    "\n",
    "# Find the sum and mean of the series.\n",
    "print(f\"\\nSum of series is {data.sum()}\")\n",
    "print(f\"mean of series is {data.mean()}\")"
   ]
  },
  {
   "cell_type": "markdown",
   "id": "e3e8b1a9",
   "metadata": {},
   "source": [
    "2.. Create a Series with custom index:\n",
    "Data: [5, 10, 15]\n",
    "Index: ['a', 'b', 'c']\n",
    "\n",
    "Access value with index 'b'\n",
    "Change value at 'c' to 20"
   ]
  },
  {
   "cell_type": "code",
   "execution_count": null,
   "id": "83286229",
   "metadata": {},
   "outputs": [
    {
     "name": "stdout",
     "output_type": "stream",
     "text": [
      "Series\n",
      "a     5\n",
      "b    10\n",
      "c    15\n",
      "dtype: int64\n",
      "\n",
      "Value of index 'b' is 10\n",
      "Value of index 'c' has been change into 20\n"
     ]
    }
   ],
   "source": [
    "import pandas as pd\n",
    "\n",
    "# creating a series of custon index\n",
    "data  = pd.Series([5, 10, 15], index = [\"a\", \"b\",\"c\"])\n",
    "print(\"Series\")\n",
    "print(data)\n",
    "\n",
    "# accessing value of sepecific index\n",
    "print(f\"\\nValue of index 'b' is {data[\"b\"]}\")\n",
    "data[\"c\"] = 20\n",
    "print(F\"Value of index 'c' has been change into {data[\"c\"]}\")\n"
   ]
  },
  {
   "cell_type": "markdown",
   "id": "ba70ec07",
   "metadata": {},
   "source": [
    "3.. Create a Series with missing values (None or np.nan):\n",
    "[1, None, 3, 4, np.nan]\n",
    "\n",
    "Count how many missing values there are.\n",
    "Replace all NaN with 0."
   ]
  },
  {
   "cell_type": "code",
   "execution_count": 16,
   "id": "17c86d49",
   "metadata": {},
   "outputs": [
    {
     "name": "stdout",
     "output_type": "stream",
     "text": [
      "Series\n",
      "0    1.0\n",
      "1    NaN\n",
      "2    3.0\n",
      "3    NaN\n",
      "dtype: float64\n",
      "Number of nan is 2\n",
      "0    1.0\n",
      "1    0.0\n",
      "2    3.0\n",
      "3    0.0\n",
      "dtype: float64\n"
     ]
    }
   ],
   "source": [
    "import pandas as pd\n",
    "import numpy as np\n",
    "\n",
    "# Create a Series with missing values (None or np.nan):\n",
    "data = pd.Series([1,None, 3,np.nan])\n",
    "print(\"Series\")\n",
    "print(data)\n",
    "\n",
    "# Count how many missing values there are.\n",
    "# region program way\n",
    "# missing = 0\n",
    "# for i in range(len(data)):\n",
    "#     if pd.isna(data[i]):\n",
    "#         missing += 1\n",
    "#         data[i] = 0\n",
    "# endregion\n",
    "count = data.isna().sum()\n",
    "print(f\"Number of nan is {count}\")\n",
    "\n",
    "# printing new change data\n",
    "# region manual way\n",
    "# print(\"\\nNew Series\")\n",
    "# print(data)\n",
    "# print(f\"Missing value: {missing}\")\n",
    "# endregion\n",
    "print(data:= data.fillna(0))"
   ]
  },
  {
   "cell_type": "markdown",
   "id": "44b91337",
   "metadata": {},
   "source": [
    "4.. Create a Series of city names:\n",
    "['Kathmandu', 'Pokhara', 'Lalitpur', 'Bhaktapur']\n",
    "Check if 'Pokhara' exists.\n",
    "Find how many characters each city name has."
   ]
  },
  {
   "cell_type": "code",
   "execution_count": 13,
   "id": "d0f28041",
   "metadata": {},
   "outputs": [
    {
     "name": "stdout",
     "output_type": "stream",
     "text": [
      "Does 'Pokhara' exist: \n",
      "0    False\n",
      "1     True\n",
      "2    False\n",
      "3    False\n",
      "dtype: bool\n",
      "True\n",
      "Counting charecters in name: 0    9\n",
      "1    7\n",
      "2    8\n",
      "3    9\n",
      "dtype: int64\n"
     ]
    }
   ],
   "source": [
    "import pandas as pd\n",
    "\n",
    "# Create a Series of city names:\n",
    "data = pd.Series(['Kathmandu', 'Pokhara', 'Lalitpur', 'Bhaktapur'])\n",
    "\n",
    "# Check if 'Pokhara' exists.\n",
    "print(f\"Does 'Pokhara' exist: \\n{data.isin([\"Pokhara\"])}\")\n",
    "print(\"Pokhara\" in data.values)\n",
    "\n",
    "# Find how many characters each city name has.\n",
    "print(f\"Counting charecters in name: {data.str.len()}\")\n",
    "\n",
    "\n"
   ]
  },
  {
   "cell_type": "markdown",
   "id": "3a0407ca",
   "metadata": {},
   "source": [
    "5.. Create a Series of exam marks for 5 students.\n",
    "Index = student names  \n",
    "Values = marks\n",
    "Sort marks in descending order.\n",
    "\n",
    "Find which student got the highest."
   ]
  },
  {
   "cell_type": "code",
   "execution_count": null,
   "id": "4fd76bfa",
   "metadata": {},
   "outputs": [
    {
     "name": "stdout",
     "output_type": "stream",
     "text": [
      "         Maks\n",
      "Ankit     90\n",
      "Anmol     60\n",
      "Amit      75\n",
      "Samir     99\n",
      "Manish    60\n",
      "dtype: object\n",
      "\n",
      "        Mask(ranked)\n",
      "Samir     99\n",
      "Ankit     90\n",
      "Amit      75\n",
      "Anmol     60\n",
      "Manish    60\n",
      "dtype: object\n",
      "\n",
      "Hight value obtaing is 99 by Samir\n"
     ]
    }
   ],
   "source": [
    "import pandas as pd\n",
    "\n",
    "# variable\n",
    "mask = ['90','60','75','99','60']\n",
    "student_name = [\"ankit\", \"anmol\",\"amit\", \"samir\",\"manish\"]\n",
    "\n",
    "# creating Series with idenx name student name, mask as value\n",
    "result = pd.Series(mask ,index= [name.capitalize() for name in student_name])\n",
    "print(\"         Maks\")\n",
    "print(result)\n",
    "\n",
    "# Sorting mask in decending order\n",
    "result = result.sort_values(ascending=False)\n",
    "print(\"\\n        Mask(ranked)\")\n",
    "print(result)\n",
    "\n",
    "# Find which student got the highest.\n",
    "print(f\"\\nHight value obtaing is {result.max()} by {result.index[0]}\")"
   ]
  },
  {
   "cell_type": "markdown",
   "id": "2263a93f",
   "metadata": {},
   "source": [
    "6.. Create a Series from a dictionary:\n",
    "{'Apple': 100, 'Banana': 30, 'Mango': 80}\n",
    "Add 20 to each value.\n",
    "Remove 'Banana'"
   ]
  },
  {
   "cell_type": "code",
   "execution_count": null,
   "id": "713e92d9",
   "metadata": {},
   "outputs": [
    {
     "name": "stdout",
     "output_type": "stream",
     "text": [
      "          qty\n",
      "Apple     100\n",
      "Banana     30\n",
      "Mango      80\n",
      "dtype: int64\n",
      "\n",
      "          qty\n",
      "Apple     120\n",
      "Banana     50\n",
      "Mango     100\n",
      "dtype: int64\n",
      "\n",
      "          qty\n",
      "Apple    120\n",
      "Mango    100\n",
      "dtype: int64\n"
     ]
    }
   ],
   "source": [
    "import pandas as pd\n",
    "\n",
    "# variable\n",
    "fruits_qnt = {\n",
    "        'Apple': 100,\n",
    "        'Banana': 30,\n",
    "        'Mango': 80\n",
    "        }\n",
    "\n",
    "# creating Series obejct to store data in 1-dimensonal\n",
    "data = pd.Series(fruits_qnt)\n",
    "print(\"          qty\")\n",
    "print(data)\n",
    "\n",
    "# Add 20 to each value.\n",
    "data = data.add(20)\n",
    "print(\"\\n          qty\")\n",
    "print(data)\n",
    "\n",
    "# Remove 'Banana' \n",
    "data.pop(\"Banana\")\n",
    "# data = data.drop(\"Banana\")\n",
    "print(\"\\n          qty\")\n",
    "print(data)"
   ]
  },
  {
   "cell_type": "markdown",
   "id": "e52975bf",
   "metadata": {},
   "source": [
    "7.. Apply a custom function to Series:\n",
    "Create a Series of numbers and multiply each element by 3 only if it’s greater than 10."
   ]
  },
  {
   "cell_type": "code",
   "execution_count": 18,
   "id": "3c750c7e",
   "metadata": {},
   "outputs": [
    {
     "name": "stdout",
     "output_type": "stream",
     "text": [
      "    num\n",
      "0     4\n",
      "1     8\n",
      "2     9\n",
      "3    10\n",
      "4    15\n",
      "5    11\n",
      "dtype: int64\n",
      "\n",
      "    num\n",
      "0     4\n",
      "1     8\n",
      "2     9\n",
      "3    30\n",
      "4    45\n",
      "5    33\n",
      "dtype: int64\n"
     ]
    }
   ],
   "source": [
    "from os import replace\n",
    "import pandas as pd\n",
    "\n",
    "# variables\n",
    "a = [4,8,9,10,15,11]\n",
    "\n",
    "# creating object of Series inn 1-dimensoal\n",
    "data = pd.Series(a)\n",
    "print(\"    num\")\n",
    "print(data)\n",
    "\n",
    "# creaing function that multiply by 3\n",
    "def multiplier(x):\n",
    "    if x >= 10:\n",
    "        return x * 3\n",
    "    return x\n",
    "\n",
    "# passing data\n",
    "data = data.apply(multiplier)\n",
    "print(\"\\n    num\")\n",
    "print(data)\n",
    "\n",
    "\n",
    "\n",
    "\n",
    "\n",
    "    \n",
    "\n"
   ]
  },
  {
   "cell_type": "markdown",
   "id": "d91880bc",
   "metadata": {},
   "source": [
    "8.. Create a Series of temperatures for a week:\n",
    "temp = [32, 31, 30, 29, 33, 34, 35]\n",
    "Index: ['Mon', 'Tue', 'Wed', 'Thu', 'Fri', 'Sat', 'Sun']\n",
    "Get temperature on 'Thu'.\n",
    "Find average temperature.\n",
    "Which day had the highest temperature?"
   ]
  },
  {
   "cell_type": "code",
   "execution_count": 1,
   "id": "18924087",
   "metadata": {},
   "outputs": [
    {
     "name": "stdout",
     "output_type": "stream",
     "text": [
      "     temperature\n",
      "Mon    32\n",
      "Tue    31\n",
      "Wed    30\n",
      "Thu    29\n",
      "Fri    39\n",
      "Sat    34\n",
      "Sun    35\n",
      "dtype: int64\n",
      "\n",
      "The temperature of Thusday is 29\n",
      "\n",
      "The Average temperature of is 32\n",
      "\n",
      "The Highest tempeature was on Fri\n"
     ]
    }
   ],
   "source": [
    "import pandas as pd\n",
    "\n",
    "# variable\n",
    "temp = [32, 31, 30, 29, 39, 34, 35]\n",
    "index = ['Mon', 'Tue', 'Wed', 'Thu', 'Fri', 'Sat', 'Sun']\n",
    "\n",
    "# creaing object of Series in 1-Dimensonal\n",
    "data = pd.Series(temp, index= index)\n",
    "print(\"     temperature\")\n",
    "print(data)\n",
    "\n",
    "# Get temperature on 'Thu'.\n",
    "print(f\"\\nThe temperature of Thusday is {data[\"Thu\"]}\")\n",
    "\n",
    "# Find average temperature.\n",
    "print(f\"\\nThe Average temperature of is {int(data.mean())}\")\n",
    "\n",
    "# Which day had the highest temperature?\n",
    "print(f\"\\nThe Highest tempeature was on {(data.sort_values(ascending= False).index[0])}\")\n"
   ]
  },
  {
   "cell_type": "markdown",
   "id": "a6e9f73a",
   "metadata": {},
   "source": [
    "9.. Filter with conditions:\n",
    "Use a Series of numbers:\n",
    "[5, 12, 7, 18, 3, 20]\n",
    "\n",
    "Get all values greater than 10.\n",
    "Replace values less than 6 with 0."
   ]
  },
  {
   "cell_type": "code",
   "execution_count": 22,
   "id": "08af00a4",
   "metadata": {},
   "outputs": [
    {
     "name": "stdout",
     "output_type": "stream",
     "text": [
      "    value\n",
      "1    12\n",
      "3    18\n",
      "5    20\n",
      "dtype: int64\n",
      "These all values are greater than 10\n",
      "\n",
      "    value\n",
      "0     0\n",
      "1    12\n",
      "2     7\n",
      "3    18\n",
      "4     3\n",
      "5    20\n",
      "dtype: int64\n",
      "All 6 has been changed into 0\n"
     ]
    }
   ],
   "source": [
    "import pandas as pd\n",
    "\n",
    "# variable\n",
    "list = [6, 12, 7, 18, 3, 20]\n",
    "\n",
    "# making object of Series\n",
    "data = pd.Series(list)\n",
    "\n",
    "# Get all values greater than 10.\n",
    "less_than_10 = data[data > 10]\n",
    "print(\"    value\")\n",
    "print(less_than_10)\n",
    "print(\"These all values are greater than 10\")\n",
    "\n",
    "# Replace values less than 6 to 0\n",
    "replace = data.replace(6, 0)\n",
    "print(\"\\n    value\")\n",
    "print(replace)\n",
    "print(\"All 6 has been changed into 0\")\n",
    "\n",
    "\n"
   ]
  },
  {
   "cell_type": "markdown",
   "id": "9e436601",
   "metadata": {},
   "source": [
    "10 ..Apply string functions:\n",
    "Create a Series of names:\n",
    "['Ram', 'Sita', 'Hari', 'Gita']\n",
    "\n",
    "Convert all names to lowercase.\n",
    "Find the length of each name."
   ]
  },
  {
   "cell_type": "code",
   "execution_count": 20,
   "id": "de9bc454",
   "metadata": {},
   "outputs": [
    {
     "name": "stdout",
     "output_type": "stream",
     "text": [
      "    Name\n",
      "0     ram\n",
      "1    sita\n",
      "2    hari\n",
      "3    gita\n",
      "dtype: object\n",
      "    Name\n",
      "0    3\n",
      "1    4\n",
      "2    4\n",
      "3    4\n",
      "dtype: int64\n"
     ]
    }
   ],
   "source": [
    "import pandas as pd\n",
    "\n",
    "# variables\n",
    "name =['Ram', 'Sita', 'Hari', 'Gita']\n",
    "\n",
    "# making object of Series\n",
    "data = pd.Series(name)\n",
    "\n",
    "# Convert all name into lowercase\n",
    "lower_data  = data.str.lower()\n",
    "print(\"    Name\")\n",
    "print(lower_data)\n",
    "\n",
    "# find the length of each name\n",
    "count_data_len = data.str.len()\n",
    "print(\"    Name\")\n",
    "print(count_data_len)\n"
   ]
  },
  {
   "cell_type": "markdown",
   "id": "b3cc0709",
   "metadata": {},
   "source": [
    "11.. 📊 Aggregation and Stats\n",
    "Marks of Students:\n",
    "{'Alex': 85, 'Bob': 92, 'Cindy': 78, 'David': 90, 'Eva': 95}\n",
    "\n",
    "Find min and max marks.\n",
    "Find number of students scoring more than 90.\n",
    "Calculate the mean."
   ]
  },
  {
   "cell_type": "code",
   "execution_count": 63,
   "id": "bbb2e3ad",
   "metadata": {},
   "outputs": [
    {
     "name": "stdout",
     "output_type": "stream",
     "text": [
      "Alex     85\n",
      "Bob      92\n",
      "Cindy    78\n",
      "David    90\n",
      "Eva      95\n",
      "dtype: int64\n",
      "\n",
      "      Name    Mask\n",
      "Max   Eva     95\n",
      "Min   Cindy   78\n"
     ]
    }
   ],
   "source": [
    "import pandas as pd\n",
    "\n",
    "# variables\n",
    "name_mask = {'Alex': 85, 'Bob': 92, 'Cindy': 78, 'David': 90, 'Eva': 95}\n",
    "\n",
    "# creating object of Series\n",
    "data = pd.Series(name_mask)\n",
    "print(data)\n",
    "\n",
    "#Find min and max marks.\n",
    "max_mask = data.sort_values(ascending=False)\n",
    "print(\"\\n      Name    Mask\") \n",
    "print(f\"Max   {max_mask.index[0]}     {data.max()}\")\n",
    "print(f\"Min   {(data.sort_values()).index[0]}   {data.min()}\")    "
   ]
  },
  {
   "cell_type": "markdown",
   "id": "b5ac6fc6",
   "metadata": {},
   "source": [
    "12..Missing Data HandlingMissing Data Handling:\n",
    "[100, None, 90, np.nan, 85, 95]\n",
    "\n",
    "Count non-null values.\n",
    "Fill missing values with average.\n",
    "Drop all NaNs and show the result."
   ]
  },
  {
   "cell_type": "code",
   "execution_count": null,
   "id": "21cd8161",
   "metadata": {},
   "outputs": [
    {
     "name": "stdout",
     "output_type": "stream",
     "text": [
      "Number of non-null values: 4\n",
      "      Mask\n",
      "0    100.0\n",
      "1     92.5\n",
      "2     90.0\n",
      "3     92.5\n",
      "4     85.0\n",
      "5     95.0\n",
      "dtype: float64\n",
      "\n",
      "      Mask\n",
      "0    100.0\n",
      "1      NaN\n",
      "2     90.0\n",
      "3      NaN\n",
      "4     85.0\n",
      "dtype: float64\n"
     ]
    }
   ],
   "source": [
    "import pandas as pd\n",
    "import numpy as np\n",
    "\n",
    "# List of values (some missing)\n",
    "values = [100, None, 90, np.nan, 85, 95]\n",
    "\n",
    "# Creating a Series\n",
    "data = pd.Series(values)\n",
    "\n",
    "# Count non-null values\n",
    "count = data.count()\n",
    "print(\"Number of non-null values:\", count)\n",
    "\n",
    "# Fill missing values with average. \n",
    "average = data.mean()\n",
    "\n",
    "average_replace = data.replace([None, np.nan], average)\n",
    "print(\"      Mask\")\n",
    "print(average_replace)\n",
    "\n",
    "# Drop all NaNs and show the result.\n",
    "drop_data = data.dropna()\n",
    "print(\"\\n      Mask\")\n",
    "print(drop_data)\n",
    "\n"
   ]
  },
  {
   "cell_type": "markdown",
   "id": "1f754a33",
   "metadata": {},
   "source": [
    "13 ..Create a Series of squares from 1 to 10\n",
    "Output: 1, 4, 9, 16, ..., 100"
   ]
  },
  {
   "cell_type": "code",
   "execution_count": null,
   "id": "17df0170",
   "metadata": {},
   "outputs": [
    {
     "name": "stdout",
     "output_type": "stream",
     "text": [
      "number square\n",
      "1       1\n",
      "2       4\n",
      "3       9\n",
      "4      16\n",
      "5      25\n",
      "6      36\n",
      "7      49\n",
      "8      64\n",
      "9      81\n",
      "10    100\n",
      "dtype: int64\n"
     ]
    }
   ],
   "source": [
    "import numbers\n",
    "import pandas as pd\n",
    "\n",
    "# variable\n",
    "numbers = [1,2,3,4,5,6,7,8,9,10]\n",
    "squares = [x**2 for x in numbers]\n",
    "\n",
    "# creating object of series\n",
    "data = pd.Series(a)\n",
    "\n",
    "# creating square of data\n",
    "series = pd.Series(squares, index=numbers)\n",
    "print(\"number square\")\n",
    "print(series)\n"
   ]
  },
  {
   "cell_type": "markdown",
   "id": "dcf16497",
   "metadata": {},
   "source": [
    "14... Reverse a Series:\n",
    "Input: [1, 2, 3, 4, 5]\n",
    "Output: [5, 4, 3, 2, 1]"
   ]
  },
  {
   "cell_type": "code",
   "execution_count": 3,
   "id": "c629043b",
   "metadata": {},
   "outputs": [
    {
     "name": "stdout",
     "output_type": "stream",
     "text": [
      "number reverse\n",
      "1    5\n",
      "2    4\n",
      "3    3\n",
      "4    2\n",
      "5    1\n",
      "dtype: int64\n",
      "\n",
      "------------------------\n",
      "|  Number  |  Reverse  |\n",
      "------------------------\n",
      "|    1     |     5     |\n",
      "|    2     |     4     |\n",
      "|    3     |     3     |\n",
      "|    4     |     2     |\n",
      "|    5     |     1     |\n",
      "------------------------\n",
      "Column: 1\n",
      "Data:\n",
      "5\n",
      "------------------------------\n",
      "Column: 2\n",
      "Data:\n",
      "4\n",
      "------------------------------\n",
      "Column: 3\n",
      "Data:\n",
      "3\n",
      "------------------------------\n",
      "Column: 4\n",
      "Data:\n",
      "2\n",
      "------------------------------\n",
      "Column: 5\n",
      "Data:\n",
      "1\n",
      "------------------------------\n"
     ]
    }
   ],
   "source": [
    "import pandas as pd\n",
    "\n",
    "# variable\n",
    "my_list = list(range(1,6))\n",
    "reverse_my_list = my_list[::-1]\n",
    "\n",
    "# creating object of series\n",
    "data = pd.Series(reverse_my_list , index=my_list)\n",
    "print(\"number\",\"reverse\")\n",
    "print(data)\n",
    "\n",
    "print(\"\")\n",
    "for index,(key, value) in enumerate(data.items(), start=1):\n",
    "    if index == 1:\n",
    "        print(\"------------------------\")\n",
    "        print(\"|  Number  |  Reverse  |\")\n",
    "        print(\"------------------------\")\n",
    "\n",
    "    print(f\"|{key:^10}|{value:^11}|\")\n",
    "print(\"------------------------\")\n",
    "\n",
    "for column_name, series in data.items():\n",
    "    print(\"Column:\", column_name)\n",
    "    print(\"Data:\")\n",
    "    print(series)\n",
    "    print(\"-\" * 30)\n"
   ]
  },
  {
   "cell_type": "markdown",
   "id": "1af95d5c",
   "metadata": {},
   "source": [
    "15... Index mapping:\n",
    "Values: [200, 300, 150]\n",
    "Index: ['Shirt', 'Pant', 'Shoes']\n",
    "\n",
    "Increase all prices by 10%.\n",
    "Show only items priced more than 250."
   ]
  },
  {
   "cell_type": "code",
   "execution_count": 85,
   "id": "1623f584",
   "metadata": {},
   "outputs": [
    {
     "name": "stdout",
     "output_type": "stream",
     "text": [
      "Items    price\n",
      "Shirt    200\n",
      "Pant     300\n",
      "Shoes    150\n",
      "dtype: int64\n",
      "\n",
      "Items    new price\n",
      "Shirt    220\n",
      "Pant     330\n",
      "Shoes    165\n",
      "dtype: int64\n",
      "\n",
      "Items    new price\n",
      "Pant    300\n",
      "dtype: int64\n"
     ]
    }
   ],
   "source": [
    "import pandas as pd\n",
    "\n",
    "# variables\n",
    "Values =  [200, 300, 150]\n",
    "Index =  ['Shirt', 'Pant', 'Shoes']\n",
    "new_price = []\n",
    "\n",
    "# creaging object of series\n",
    "data = pd.Series(Values, index= Index)\n",
    "print(\"Items    price\")\n",
    "print(data)\n",
    "\n",
    "# Increase all prices by 10%.\n",
    "inc_price = lambda x : round(x * 1.1)\n",
    "# data = pd.Series((list(map(inc_price, Values))), index = Index)\n",
    "new_data = data.apply(inc_price)\n",
    "print()\n",
    "print(\"Items    new price\")\n",
    "print(new_data)\n",
    "\n",
    "# Show only items priced more than 250.\n",
    "import pandas as pd\n",
    "# filter prices greater than 250\n",
    "filtered = data[data > 250]\n",
    "print()\n",
    "print(\"Items    new price\")\n",
    "print(filtered)\n"
   ]
  },
  {
   "cell_type": "markdown",
   "id": "4928a3a0",
   "metadata": {},
   "source": [
    "self.. creaing cvs file form dictionary"
   ]
  },
  {
   "cell_type": "code",
   "execution_count": 3,
   "id": "612fdcc6",
   "metadata": {},
   "outputs": [],
   "source": [
    "import pandas as pd\n",
    "\n",
    "data = {\n",
    "    'Duration': [60, 60, 60, 45, 45, 60, 60, 450, 30, 60, 60, 60, 60, 60, 60, 60, 60, 60, 45, 60, 45, 60, 45, 60, 45, 60, 60, 60, 60, 60, 60, 60],\n",
    "    'Date': ['2020/12/01', '2020/12/02', '2020/12/03', '2020/12/04', '2020/12/05', '2020/12/06', '2020/12/07', '2020/12/08', '2020/12/09', '2020/12/10', \n",
    "             '2020/12/11', '2020/12/12', '2020/12/12', '2020/12/13', '2020/12/14', '2020/12/15', '2020/12/16', '2020/12/17', '2020/12/18', '2020/12/19', \n",
    "             '2020/12/20', '2020/12/21', None, '2020/12/23', '2020/12/24', '2020/12/25', '2020/12/26', '2020/12/27', '2020/12/28', '2020/12/29', \n",
    "             '2020/12/30', '2020/12/31'],\n",
    "    'Pulse': [110, 117, 103, 109, 117, 102, 110, 104, 109, 98, 103, 100, 100, 106, 104, 98, 98, 100, 90, 103, 97, 108, 100, 130, 105, 102, 100, 92, 103, 100, 102, 92],\n",
    "    'Maxpulse': [130, 145, 135, 175, 148, 127, 136, 134, 133, 124, 147, 120, 120, 128, 132, 123, 120, 120, 112, 123, 125, 131, 119, 101, 132, 126, 120, 118, 132, 132, 129, 115],\n",
    "    'Calories': [409.1, 479.0, 340.0, 282.4, 406.0, 300.0, 374.0, 253.3, 195.1, 269.0, 329.3, 250.7, 250.7, 345.3, 379.3, 275.0, 215.2, 300.0, None, 323.0, 243.0, 364.2, 282.0, 300.0, 246.0, 334.5, 250.0, 241.0, None, 280.0, 380.3, 243.0]\n",
    "}\n",
    "\n",
    "df = pd.DataFrame(data)\n",
    "df.to_csv(\"csv_files/test.csv\", index=False)\n"
   ]
  }
 ],
 "metadata": {
  "kernelspec": {
   "display_name": "Python 3",
   "language": "python",
   "name": "python3"
  },
  "language_info": {
   "codemirror_mode": {
    "name": "ipython",
    "version": 3
   },
   "file_extension": ".py",
   "mimetype": "text/x-python",
   "name": "python",
   "nbconvert_exporter": "python",
   "pygments_lexer": "ipython3",
   "version": "3.13.3"
  }
 },
 "nbformat": 4,
 "nbformat_minor": 5
}
