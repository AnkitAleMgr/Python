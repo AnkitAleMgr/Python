{
 "cells": [
  {
   "cell_type": "code",
   "execution_count": 35,
   "id": "e5ed3750-ed4d-4f9a-ad4b-e7fcc628d8b5",
   "metadata": {},
   "outputs": [
    {
     "data": {
      "text/html": [
       "<div>\n",
       "<style scoped>\n",
       "    .dataframe tbody tr th:only-of-type {\n",
       "        vertical-align: middle;\n",
       "    }\n",
       "\n",
       "    .dataframe tbody tr th {\n",
       "        vertical-align: top;\n",
       "    }\n",
       "\n",
       "    .dataframe thead th {\n",
       "        text-align: right;\n",
       "    }\n",
       "</style>\n",
       "<table border=\"1\" class=\"dataframe\">\n",
       "  <thead>\n",
       "    <tr style=\"text-align: right;\">\n",
       "      <th></th>\n",
       "      <th>EmployeeID</th>\n",
       "      <th>Name</th>\n",
       "      <th>Age</th>\n",
       "      <th>Department</th>\n",
       "      <th>Position</th>\n",
       "      <th>Salary</th>\n",
       "      <th>JoiningDate</th>\n",
       "      <th>Location</th>\n",
       "      <th>Experience</th>\n",
       "      <th>Performance</th>\n",
       "      <th>Gender</th>\n",
       "      <th>LeavesTaken</th>\n",
       "      <th>ProjectsHandled</th>\n",
       "      <th>RemoteWork</th>\n",
       "    </tr>\n",
       "  </thead>\n",
       "  <tbody>\n",
       "    <tr>\n",
       "      <th>0</th>\n",
       "      <td>1</td>\n",
       "      <td>Employee_1</td>\n",
       "      <td>50</td>\n",
       "      <td>Finance</td>\n",
       "      <td>Executive</td>\n",
       "      <td>72254</td>\n",
       "      <td>2010-01-31</td>\n",
       "      <td>London</td>\n",
       "      <td>29</td>\n",
       "      <td>Good</td>\n",
       "      <td>Other</td>\n",
       "      <td>29</td>\n",
       "      <td>7</td>\n",
       "      <td>Yes</td>\n",
       "    </tr>\n",
       "    <tr>\n",
       "      <th>1</th>\n",
       "      <td>2</td>\n",
       "      <td>Employee_2</td>\n",
       "      <td>36</td>\n",
       "      <td>Finance</td>\n",
       "      <td>Assistant</td>\n",
       "      <td>87362</td>\n",
       "      <td>2010-02-28</td>\n",
       "      <td>Toronto</td>\n",
       "      <td>3</td>\n",
       "      <td>Excellent</td>\n",
       "      <td>Female</td>\n",
       "      <td>3</td>\n",
       "      <td>7</td>\n",
       "      <td>No</td>\n",
       "    </tr>\n",
       "    <tr>\n",
       "      <th>2</th>\n",
       "      <td>3</td>\n",
       "      <td>Employee_3</td>\n",
       "      <td>29</td>\n",
       "      <td>Finance</td>\n",
       "      <td>Manager</td>\n",
       "      <td>60128</td>\n",
       "      <td>2010-03-31</td>\n",
       "      <td>Sydney</td>\n",
       "      <td>34</td>\n",
       "      <td>Excellent</td>\n",
       "      <td>Male</td>\n",
       "      <td>1</td>\n",
       "      <td>4</td>\n",
       "      <td>Yes</td>\n",
       "    </tr>\n",
       "    <tr>\n",
       "      <th>3</th>\n",
       "      <td>4</td>\n",
       "      <td>Employee_4</td>\n",
       "      <td>42</td>\n",
       "      <td>HR</td>\n",
       "      <td>Manager</td>\n",
       "      <td>99383</td>\n",
       "      <td>2010-04-30</td>\n",
       "      <td>Berlin</td>\n",
       "      <td>27</td>\n",
       "      <td>Average</td>\n",
       "      <td>Female</td>\n",
       "      <td>19</td>\n",
       "      <td>13</td>\n",
       "      <td>Yes</td>\n",
       "    </tr>\n",
       "    <tr>\n",
       "      <th>4</th>\n",
       "      <td>5</td>\n",
       "      <td>Employee_5</td>\n",
       "      <td>40</td>\n",
       "      <td>HR</td>\n",
       "      <td>Engineer</td>\n",
       "      <td>105545</td>\n",
       "      <td>2010-05-31</td>\n",
       "      <td>New York</td>\n",
       "      <td>13</td>\n",
       "      <td>Average</td>\n",
       "      <td>Other</td>\n",
       "      <td>15</td>\n",
       "      <td>14</td>\n",
       "      <td>No</td>\n",
       "    </tr>\n",
       "  </tbody>\n",
       "</table>\n",
       "</div>"
      ],
      "text/plain": [
       "   EmployeeID        Name  Age Department   Position  Salary JoiningDate  \\\n",
       "0           1  Employee_1   50    Finance  Executive   72254  2010-01-31   \n",
       "1           2  Employee_2   36    Finance  Assistant   87362  2010-02-28   \n",
       "2           3  Employee_3   29    Finance    Manager   60128  2010-03-31   \n",
       "3           4  Employee_4   42         HR    Manager   99383  2010-04-30   \n",
       "4           5  Employee_5   40         HR   Engineer  105545  2010-05-31   \n",
       "\n",
       "   Location  Experience Performance  Gender  LeavesTaken  ProjectsHandled  \\\n",
       "0    London          29        Good   Other           29                7   \n",
       "1   Toronto           3   Excellent  Female            3                7   \n",
       "2    Sydney          34   Excellent    Male            1                4   \n",
       "3    Berlin          27     Average  Female           19               13   \n",
       "4  New York          13     Average   Other           15               14   \n",
       "\n",
       "  RemoteWork  \n",
       "0        Yes  \n",
       "1         No  \n",
       "2        Yes  \n",
       "3        Yes  \n",
       "4         No  "
      ]
     },
     "execution_count": 35,
     "metadata": {},
     "output_type": "execute_result"
    }
   ],
   "source": [
    "import pandas as pd\n",
    "\n",
    "df = pd.read_csv(\"csv_files/expanded_employee_data.csv\")\n",
    "df.head()"
   ]
  },
  {
   "cell_type": "code",
   "execution_count": 30,
   "id": "9f1fe606-9c98-403e-b0eb-239b9568b5e8",
   "metadata": {
    "collapsed": true,
    "jupyter": {
     "outputs_hidden": true,
     "source_hidden": true
    }
   },
   "outputs": [
    {
     "data": {
      "text/plain": [
       "Department\n",
       "Sales        60\n",
       "Finance      59\n",
       "Marketing    54\n",
       "HR           48\n",
       "Support      40\n",
       "IT           39\n",
       "Name: count, dtype: int64"
      ]
     },
     "execution_count": 30,
     "metadata": {},
     "output_type": "execute_result"
    }
   ],
   "source": [
    "# Easy Tasks\n",
    "# Load the dataset into pandas and display the first 10 rows.\n",
    "# Check the shape (number of rows and columns).\n",
    "# Get the list of column names.\n",
    "# Find the average salary of all employees.\n",
    "# Count how many employees are in each department.\n",
    "\n",
    "clone_df = df.copy()\n",
    "clone_df.head(10)\n",
    "clone_df.shape\n",
    "clone_df.columns.to_list()\n",
    "# clone_df[\"Salary\"].mean()\n",
    "clone_df.loc[:,\"Salary\"].mean().round()\n",
    "clone_df.groupby(by = \"Department\")[\"EmployeeID\"].count()\n",
    "clone_df[\"Department\"].value_counts()"
   ]
  },
  {
   "cell_type": "code",
   "execution_count": 69,
   "id": "2cb12825-ff7c-4bc3-99f1-1fbcbafa8363",
   "metadata": {},
   "outputs": [
    {
     "data": {
      "text/plain": [
       "<pandas.core.groupby.generic.DataFrameGroupBy object at 0x135d83b90>"
      ]
     },
     "execution_count": 69,
     "metadata": {},
     "output_type": "execute_result"
    }
   ],
   "source": [
    "# 🟡 Medium Tasks\n",
    "# Find the maximum bonus and the employee’s name who received it.\n",
    "# Calculate the average experience of employees in the \"IT\" department.\n",
    "# Create a new column called Total Compensation = Salary + Bonus.\n",
    "# Get the top 5 highest paid employees (based on Total Compensation).\n",
    "# Find how many employees have more than 5 years of experience.\n",
    "clone_df = df.copy()\n",
    "\n",
    "maximum = clone_df[\"Salary\"].max()\n",
    "clone_df.loc[clone_df[\"Salary\"] == maximum]\n",
    "# clone_df.query(\"Salary == 'maximum'\")\n",
    "clone_df.groupby(\"Department\")\n"
   ]
  },
  {
   "cell_type": "code",
   "execution_count": null,
   "id": "d39ecc1a-7f0b-4f79-af78-262c08c69f14",
   "metadata": {},
   "outputs": [],
   "source": []
  },
  {
   "cell_type": "code",
   "execution_count": null,
   "id": "e4dfb623-f924-4b2d-8e2f-6f16f2b2f840",
   "metadata": {},
   "outputs": [],
   "source": []
  }
 ],
 "metadata": {
  "kernelspec": {
   "display_name": "Python 3 (ipykernel)",
   "language": "python",
   "name": "python3"
  },
  "language_info": {
   "codemirror_mode": {
    "name": "ipython",
    "version": 3
   },
   "file_extension": ".py",
   "mimetype": "text/x-python",
   "name": "python",
   "nbconvert_exporter": "python",
   "pygments_lexer": "ipython3",
   "version": "3.13.3"
  }
 },
 "nbformat": 4,
 "nbformat_minor": 5
}
