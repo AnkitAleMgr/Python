{
 "cells": [
  {
   "cell_type": "code",
   "execution_count": 1,
   "id": "b2fd3c34",
   "metadata": {},
   "outputs": [
    {
     "data": {
      "text/html": [
       "<div>\n",
       "<style scoped>\n",
       "    .dataframe tbody tr th:only-of-type {\n",
       "        vertical-align: middle;\n",
       "    }\n",
       "\n",
       "    .dataframe tbody tr th {\n",
       "        vertical-align: top;\n",
       "    }\n",
       "\n",
       "    .dataframe thead th {\n",
       "        text-align: right;\n",
       "    }\n",
       "</style>\n",
       "<table border=\"1\" class=\"dataframe\">\n",
       "  <thead>\n",
       "    <tr style=\"text-align: right;\">\n",
       "      <th></th>\n",
       "      <th>Title</th>\n",
       "      <th>Author</th>\n",
       "      <th>Isbn</th>\n",
       "      <th>Available</th>\n",
       "    </tr>\n",
       "  </thead>\n",
       "  <tbody>\n",
       "    <tr>\n",
       "      <th>0</th>\n",
       "      <td>Thor</td>\n",
       "      <td>Samgam</td>\n",
       "      <td>1234-5678-90</td>\n",
       "      <td>True</td>\n",
       "    </tr>\n",
       "    <tr>\n",
       "      <th>1</th>\n",
       "      <td>Spider Man</td>\n",
       "      <td>Anup</td>\n",
       "      <td>1234-5678-900</td>\n",
       "      <td>False</td>\n",
       "    </tr>\n",
       "    <tr>\n",
       "      <th>2</th>\n",
       "      <td>Wonder Women</td>\n",
       "      <td>Samir</td>\n",
       "      <td>1234-5678-89</td>\n",
       "      <td>True</td>\n",
       "    </tr>\n",
       "  </tbody>\n",
       "</table>\n",
       "</div>"
      ],
      "text/plain": [
       "          Title  Author           Isbn  Available\n",
       "0          Thor  Samgam   1234-5678-90       True\n",
       "1    Spider Man    Anup  1234-5678-900      False\n",
       "2  Wonder Women   Samir   1234-5678-89       True"
      ]
     },
     "execution_count": 1,
     "metadata": {},
     "output_type": "execute_result"
    }
   ],
   "source": [
    "import pandas as pd\n",
    "\n",
    "data = [\n",
    "    {\n",
    "        \"Title\": \"Thor\",\n",
    "        \"Author\": \"Samgam\",\n",
    "        \"Isbn\": \"1234-5678-90\",\n",
    "        \"Available\": True\n",
    "    },\n",
    "    {\n",
    "        \"Title\": \"Spider Man\",\n",
    "        \"Author\": \"Anup\",\n",
    "        \"Isbn\": \"1234-5678-900\",\n",
    "        \"Available\": False\n",
    "    },\n",
    "    {\n",
    "        \"Title\": \"Wonder Women\",\n",
    "        \"Author\": \"Samir\",\n",
    "        \"Isbn\": \"1234-5678-89\",\n",
    "        \"Available\": True\n",
    "    }\n",
    "]\n",
    "\n",
    "df = pd.DataFrame(data)\n",
    "\n",
    "df"
   ]
  }
 ],
 "metadata": {
  "kernelspec": {
   "display_name": "Python 3",
   "language": "python",
   "name": "python3"
  },
  "language_info": {
   "codemirror_mode": {
    "name": "ipython",
    "version": 3
   },
   "file_extension": ".py",
   "mimetype": "text/x-python",
   "name": "python",
   "nbconvert_exporter": "python",
   "pygments_lexer": "ipython3",
   "version": "3.13.3"
  }
 },
 "nbformat": 4,
 "nbformat_minor": 5
}
