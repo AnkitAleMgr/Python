{
 "cells": [
  {
   "cell_type": "code",
   "execution_count": null,
   "id": "b2fd3c34",
   "metadata": {},
   "outputs": [],
   "source": [
    "import pandas as pd\n",
    "import os\n",
    "\n",
    "# path = \"Users/ankit/Documents/Self/Python/selfLearning/object_oreanted_program(OOP)/library_management_system\"\n",
    "data = [\n",
    "    {\n",
    "        \"Title\": \"Thor\",\n",
    "        \"Author\": \"Samgam\",\n",
    "        \"Isbn\": \"1234-5678-90\",\n",
    "        \"Available\": True\n",
    "    },\n",
    "    {\n",
    "        \"Title\": \"Spider Man\",\n",
    "        \"Author\": \"Anup\",\n",
    "        \"Isbn\": \"1234-5678-900\",\n",
    "        \"Available\": False\n",
    "    },\n",
    "    {\n",
    "        \"Title\": \"Wonder Women\",\n",
    "        \"Author\": \"Samir\",\n",
    "        \"Isbn\": \"1234-5678-89\",\n",
    "        \"Available\": True\n",
    "    }\n",
    "]\n",
    "\n",
    "df = pd.DataFrame(data)\n",
    "\n",
    "# df.to_csv(\"lfjalfja\")"
   ]
  }
 ],
 "metadata": {
  "kernelspec": {
   "display_name": "Python 3",
   "language": "python",
   "name": "python3"
  },
  "language_info": {
   "codemirror_mode": {
    "name": "ipython",
    "version": 3
   },
   "file_extension": ".py",
   "mimetype": "text/x-python",
   "name": "python",
   "nbconvert_exporter": "python",
   "pygments_lexer": "ipython3",
   "version": "3.13.3"
  }
 },
 "nbformat": 4,
 "nbformat_minor": 5
}
